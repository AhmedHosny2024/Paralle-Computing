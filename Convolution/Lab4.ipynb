{
  "cells": [
    {
      "cell_type": "markdown",
      "metadata": {
        "id": "SACSa2bT_vc7"
      },
      "source": [
        "### **Cuda Programming Applications**\n",
        "\n",
        "This mini-lab targets some hands-on implementations and more practice on cuda in common real-world recurring tasks. Moreover, we aim to compare the outcomes of our low-level implementations with the built-in functions in popular frameworks as Pytorch. We'll revisit how you can fool cuda by passing a 2D array (for easier indexing)! Then we'll go straight to implement our Conv3D kernel function!"
      ]
    },
    {
      "cell_type": "markdown",
      "metadata": {
        "id": "h3MMzziQDLMj"
      },
      "source": [
        "#### **Passing 2D array to cuda**\n",
        "\n",
        "As we already know, array memory representation in cuda is linear, making higher-dimensional arrays represented also in a 1D fashion. That's why we need to flatten a 2D matrix to pass it to cuda in a row-major representation, making indexing kind of tedious. Now the question that pops-up: Could we in any way pass a 2D-organised array to cuda to do a more convenient double indexing?\n",
        "\n",
        "The answer is: Yes! Yet, this comes with some limitations. To pass a 2D array and carry out double indexing in cuda, this array has to be statically allocated by the CPU, not dynamically allocated, so you need to know the array dimensions at the compile time. This way, the compiler is aware about the width of the 2D array, and can do the linearization process on its own. Moreover, a statically allocated array will be represented in memory in a contiguous 1D fashion. In contrast, if you dynamically allocate your matrix, you may or may not gurantee that all elements of the 2D array are contiguous, depending on the allocation fashion.\n",
        "\n",
        "    // Consider for example, allocating the array this way:\n",
        "\n",
        "    int* arr[r];\n",
        "    for (i = 0; i < r; i++)\n",
        "        arr[i] = (float*)malloc(c * sizeof(float));\n",
        "\n",
        "A call to malloc here does not necessarily gurantee that the allocated memory is just after its preceding ones. Such discontinuouty makes it hard for the compiler to carry out the linearization."
      ]
    },
    {
      "cell_type": "markdown",
      "metadata": {
        "id": "R-PSQaNJJiH8"
      },
      "source": [
        "#### Now let's consider the following matrix addition example based on double indexing"
      ]
    },
    {
      "cell_type": "code",
      "execution_count": 1,
      "metadata": {
        "id": "3tqpbDe__ib0"
      },
      "outputs": [
        {
          "name": "stdout",
          "output_type": "stream",
          "text": [
            "Collecting git+https://github.com/andreinechaev/nvcc4jupyter.git\n",
            "  Cloning https://github.com/andreinechaev/nvcc4jupyter.git to c:\\users\\engah\\appdata\\local\\temp\\pip-req-build-s4e014cu\n",
            "  Resolved https://github.com/andreinechaev/nvcc4jupyter.git to commit 5741c522547756ac4bb7a16df32106a15efb8a57\n",
            "  Installing build dependencies: started\n",
            "  Installing build dependencies: finished with status 'done'\n",
            "  Getting requirements to build wheel: started\n",
            "  Getting requirements to build wheel: finished with status 'done'\n",
            "  Preparing metadata (pyproject.toml): started\n",
            "  Preparing metadata (pyproject.toml): finished with status 'done'\n",
            "Building wheels for collected packages: nvcc4jupyter\n",
            "  Building wheel for nvcc4jupyter (pyproject.toml): started\n",
            "  Building wheel for nvcc4jupyter (pyproject.toml): finished with status 'done'\n",
            "  Created wheel for nvcc4jupyter: filename=nvcc4jupyter-1.2.1-py3-none-any.whl size=10818 sha256=816627ae86d1d305767f0033cfa18846ce59a2b5d2270675cc645171fb34eba2\n",
            "  Stored in directory: C:\\Users\\engah\\AppData\\Local\\Temp\\pip-ephem-wheel-cache-vlha5k0p\\wheels\\ef\\1d\\c6\\f7e47f1aa1bc9d05c4120d94f90a79cf28603ef343b0dd43ff\n",
            "Successfully built nvcc4jupyter\n",
            "Installing collected packages: nvcc4jupyter\n",
            "Successfully installed nvcc4jupyter-1.2.1\n",
            "Source files will be saved in \"C:\\Users\\engah\\AppData\\Local\\Temp\\tmp9s_g7r7d\".\n"
          ]
        },
        {
          "name": "stderr",
          "output_type": "stream",
          "text": [
            "  Running command git clone --filter=blob:none --quiet https://github.com/andreinechaev/nvcc4jupyter.git 'C:\\Users\\engah\\AppData\\Local\\Temp\\pip-req-build-s4e014cu'\n"
          ]
        }
      ],
      "source": [
        "!pip install git+https://github.com/andreinechaev/nvcc4jupyter.git\n",
        "%load_ext nvcc4jupyter"
      ]
    },
    {
      "cell_type": "code",
      "execution_count": 2,
      "metadata": {
        "id": "PcoBAeRwKF39"
      },
      "outputs": [
        {
          "name": "stdout",
          "output_type": "stream",
          "text": [
            "\n"
          ]
        }
      ],
      "source": [
        "%%cuda\n",
        "#include <stdio.h>\n",
        "#include <stdlib.h>\n",
        "#include <assert.h>\n",
        "#define N 1000\n",
        "#define M 500\n",
        "#define MAX_ERR 1e-3\n",
        "__global__ void MatAdd(float A[N][M], float B[N][M], float C[N][M])\n",
        "{\n",
        "    int i = blockIdx.x * blockDim.x + threadIdx.x;\n",
        "    int j = blockIdx.y * blockDim.y + threadIdx.y;\n",
        "\n",
        "    // Note: the first indexing specifies the row (y-axis), the second one specifies the column (x-axis)\n",
        "    C[j][i] = A[j][i] + B[j][i];\n",
        "}\n",
        "\n",
        "int main(){\n",
        "\n",
        "     // statically allocate the matrices\n",
        "     float a[N][M], b[N][M], c[N][M];\n",
        "\n",
        "    // Initialize a, b\n",
        "    for (int i = 0; i < N; ++i) {\n",
        "        for (int j = 0; j < M; ++j) {\n",
        "            a[i][j] = i * 1.1;\n",
        "            b[i][j] = j * 1.1;\n",
        "        }\n",
        "    }\n",
        "\n",
        "    // Allocate device memory\n",
        "    float *d_A, *d_B, *d_C; // Device pointer for the 2D array\n",
        "\n",
        "    cudaMalloc((void**)&d_A, sizeof(float) * N * M);\n",
        "    cudaMalloc((void**)&d_B, sizeof(float) * N * M);\n",
        "    cudaMalloc((void**)&d_C, sizeof(float) * N * M);\n",
        "\n",
        "    // Transfer data from host to device memory\n",
        "    cudaMemcpy(d_A, a, sizeof(float) * N * M, cudaMemcpyHostToDevice);\n",
        "    cudaMemcpy(d_B, b, sizeof(float) * N * M, cudaMemcpyHostToDevice);\n",
        "\n",
        "    dim3 ThreadsPerBlock(16, 16);\n",
        "\n",
        "    // Note that M here specifies the number of columns (on the X-axis), while N specifies the rows\n",
        "    dim3 GridSize ((M - 1) / ThreadsPerBlock.x + 1, (N - 1) / ThreadsPerBlock.y + 1);\n",
        "\n",
        "    // Casting the single pointer to an array of pointers\n",
        "    MatAdd<<<GridSize, ThreadsPerBlock>>>((float(*) [M])d_A, (float(*) [M])d_B, (float(*) [M])d_C);\n",
        "\n",
        "    // Transfer data back to host memory\n",
        "    cudaMemcpy(c, d_C, sizeof(float) * N * M, cudaMemcpyDeviceToHost);\n",
        "\n",
        "\n",
        "    // Verification\n",
        "    for(int i = 0; i < N; i++){\n",
        "      for(int j = 0; j < M; j++){\n",
        "         assert(fabs(c[i][j] - a[i][j] - b[i][j]) < MAX_ERR);\n",
        "      }\n",
        "    }\n",
        "    printf(\"PASSED\\n\");\n",
        "\n",
        "    // Deallocate device memory\n",
        "     cudaFree(d_A);\n",
        "     cudaFree(d_B);\n",
        "     cudaFree(d_C);\n",
        "\n",
        "    // No need to deallocate host memory\n",
        "}"
      ]
    },
    {
      "cell_type": "markdown",
      "metadata": {
        "id": "9DU7eXap6ZpW"
      },
      "source": [
        "### **Requirement**\n",
        "\n",
        "A) A cuda program is required to carry out a 3D convolution over RGB images and save the output ones, the program is given a path to a folder containing the input images and that of an output folder that should contain the outputs, respectively as command line arguments.\n",
        "\n",
        "1.   kernel1: basic implementation (no tiling)\n",
        "2.   kernel2: tiling where each block matches the input tile size.\n",
        "3.   kernel3: tiling where each block matches the output tile size.\n",
        "\n",
        "Notes:\n",
        "*   Add necessary paddings so that the output image size is the same as that of the input one.\n",
        "\n",
        "*   The kernel should be able to handle a batch of images at a time, the batch size is passed as the 3rd argument.\n",
        "\n",
        "B) Implement the same program in python, using the built-in convolution functions in Pytorch.\n",
        "\n",
        "C) Profile each program carefully and do sufficient experiments to compare between them and collect insightful results. Organise your results in a tabular form and prepare a comprehensive report explaining all of your findings. Also mention the impact of declaring the mask as constant in terms of execution time and elaborate on this in your report."
      ]
    },
    {
      "cell_type": "markdown",
      "metadata": {
        "id": "Lc-0dlsfvh1n"
      },
      "source": [
        "#### **Helpers**\n",
        "\n",
        "This section contains some helpers that could be needed for the requirement. Check it frequently.\n",
        "\n",
        "**Helper1**: Read RGB images in C"
      ]
    },
    {
      "cell_type": "code",
      "execution_count": null,
      "metadata": {
        "colab": {
          "base_uri": "https://localhost:8080/"
        },
        "id": "JCT_z26pv281",
        "outputId": "26a289f0-1e9f-4264-810b-504d74b89d5b"
      },
      "outputs": [
        {
          "name": "stdout",
          "output_type": "stream",
          "text": [
            "Cloning into 'stb'...\n",
            "remote: Enumerating objects: 8031, done.\u001b[K\n",
            "remote: Counting objects: 100% (163/163), done.\u001b[K\n",
            "remote: Compressing objects: 100% (84/84), done.\u001b[K\n",
            "remote: Total 8031 (delta 99), reused 104 (delta 78), pack-reused 7868\u001b[K\n",
            "Receiving objects: 100% (8031/8031), 5.59 MiB | 12.25 MiB/s, done.\n",
            "Resolving deltas: 100% (5324/5324), done.\n"
          ]
        }
      ],
      "source": [
        "# Fetch stb_image library\n",
        "\n",
        "!git clone https://github.com/nothings/stb.git\n",
        "!cp stb/stb_image.h /usr/local/include/"
      ]
    },
    {
      "cell_type": "code",
      "execution_count": null,
      "metadata": {
        "colab": {
          "base_uri": "https://localhost:8080/"
        },
        "id": "rMC7DrRHwgsd",
        "outputId": "a93a1f79-7676-46ca-f676-43baf3bc3a79"
      },
      "outputs": [
        {
          "name": "stdout",
          "output_type": "stream",
          "text": [
            "Overwriting read_image.c\n"
          ]
        }
      ],
      "source": [
        "# Read the image dimensions and pixels\n",
        "\n",
        "%%writefile read_image.c\n",
        "#define STB_IMAGE_IMPLEMENTATION\n",
        "\n",
        "#include <stdio.h>\n",
        "#include \"stb_image.h\"\n",
        "\n",
        "const size_t NUM_PIXELS_TO_PRINT = 10;\n",
        "\n",
        "int main(void) {\n",
        "    int width, height, comp;\n",
        "    unsigned char *data = stbi_load(\"image.jpeg\", &width, &height, &comp, 0);\n",
        "    if (data) {\n",
        "        printf(\"width = %d, height = %d, comp = %d (channels)\\n\", width, height, comp);\n",
        "        for (size_t i = 0; i < NUM_PIXELS_TO_PRINT * comp; i++) {\n",
        "            printf(\"%d%s\", data[i], ((i + 1) % comp) ? \" \" : \"\\n\");\n",
        "        }\n",
        "        printf(\"\\n\");\n",
        "    }\n",
        "    return 0;\n",
        "}"
      ]
    },
    {
      "cell_type": "code",
      "execution_count": null,
      "metadata": {
        "colab": {
          "base_uri": "https://localhost:8080/"
        },
        "id": "w6kZE3q6zcqX",
        "outputId": "b9447446-b5a8-4f13-acd4-a5dc94efed1b"
      },
      "outputs": [
        {
          "name": "stdout",
          "output_type": "stream",
          "text": [
            "width = 989, height = 1280, comp = 3 (channels)\n",
            "153 161 161\n",
            "153 161 161\n",
            "153 161 161\n",
            "153 161 161\n",
            "153 161 161\n",
            "153 161 161\n",
            "153 161 161\n",
            "153 161 161\n",
            "152 160 160\n",
            "152 160 160\n",
            "\n"
          ]
        }
      ],
      "source": [
        "!g++ read_image.c -o readImage.out\n",
        "!./readImage.out"
      ]
    }
  ],
  "metadata": {
    "colab": {
      "provenance": []
    },
    "kernelspec": {
      "display_name": "Python 3",
      "name": "python3"
    },
    "language_info": {
      "codemirror_mode": {
        "name": "ipython",
        "version": 3
      },
      "file_extension": ".py",
      "mimetype": "text/x-python",
      "name": "python",
      "nbconvert_exporter": "python",
      "pygments_lexer": "ipython3",
      "version": "3.11.5"
    }
  },
  "nbformat": 4,
  "nbformat_minor": 0
}
